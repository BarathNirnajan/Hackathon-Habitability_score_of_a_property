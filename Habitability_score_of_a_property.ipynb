{
  "nbformat": 4,
  "nbformat_minor": 0,
  "metadata": {
    "colab": {
      "name": "Habitability_score_of_a_property.ipynb",
      "provenance": [],
      "collapsed_sections": [],
      "authorship_tag": "ABX9TyNv7/EZS267otsNIuF/7QoD",
      "include_colab_link": true
    },
    "kernelspec": {
      "name": "python3",
      "display_name": "Python 3"
    },
    "language_info": {
      "name": "python"
    }
  },
  "cells": [
    {
      "cell_type": "markdown",
      "metadata": {
        "id": "view-in-github",
        "colab_type": "text"
      },
      "source": [
        "<a href=\"https://colab.research.google.com/github/BarathNirnajan/Hackathon-Habitability_score_of_a_property/blob/master/Habitability_score_of_a_property.ipynb\" target=\"_parent\"><img src=\"https://colab.research.google.com/assets/colab-badge.svg\" alt=\"Open In Colab\"/></a>"
      ]
    },
    {
      "cell_type": "markdown",
      "source": [
        "# HackerEarth Hackathon\n"
      ],
      "metadata": {
        "id": "2Wm_3ZqJ8DHA"
      }
    },
    {
      "cell_type": "markdown",
      "source": [
        "## Habitability score of a property"
      ],
      "metadata": {
        "id": "kdVcGIWh8MAy"
      }
    },
    {
      "cell_type": "markdown",
      "source": [
        "## Problem Statement\n",
        "Finding the correct property to live in is a crucial task while moving to a new city/location. An inappropriate property can make our life miserable. Can AI help us find better places?"
      ],
      "metadata": {
        "id": "T32P4lSF8Lgh"
      }
    },
    {
      "cell_type": "markdown",
      "source": [
        "## Task\n",
        "You have given a relevant dataset about various properties in the USA. Your task is to identify the habitability score of the property."
      ],
      "metadata": {
        "id": "zARnNQOy8LF-"
      }
    },
    {
      "cell_type": "markdown",
      "source": [
        "# Importing Libraries"
      ],
      "metadata": {
        "id": "9kIqRsaw8n0U"
      }
    },
    {
      "cell_type": "code",
      "source": [
        "import numpy as np\n",
        "import matplotlib.pyplot as plt\n",
        "import pandas as pd\n",
        "from sklearn.metrics import r2_score"
      ],
      "metadata": {
        "id": "LkMo657E8IMs"
      },
      "execution_count": 2,
      "outputs": []
    },
    {
      "cell_type": "markdown",
      "source": [
        "# Importing the datasets"
      ],
      "metadata": {
        "id": "QsvRoFnC80i5"
      }
    },
    {
      "cell_type": "code",
      "source": [
        "train_dataset = pd.read_csv(\"train.csv\")\n",
        "test_dataset = pd.read_csv(\"test.csv\")\n",
        "X = train_dataset.iloc[:, 1:-1].values\n",
        "y = train_dataset.iloc[:, -1].values\n",
        "test_data = test_dataset.iloc[:, 1:].values"
      ],
      "metadata": {
        "id": "2wADwc6x83kx"
      },
      "execution_count": 3,
      "outputs": []
    },
    {
      "cell_type": "markdown",
      "source": [
        "# Train dataset"
      ],
      "metadata": {
        "id": "RVIc5wbw9QbJ"
      }
    },
    {
      "cell_type": "code",
      "source": [
        "train_dataset"
      ],
      "metadata": {
        "colab": {
          "base_uri": "https://localhost:8080/",
          "height": 748
        },
        "id": "2b4WYH1h9RHZ",
        "outputId": "a7f2f5a8-0ab5-4798-b354-30dce4725d6a"
      },
      "execution_count": 4,
      "outputs": [
        {
          "output_type": "execute_result",
          "data": {
            "text/plain": [
              "      Property_ID       Property_Type  Property_Area  Number_of_Windows  \\\n",
              "0          0x21e3           Apartment            106                NaN   \n",
              "1          0x68d4           Apartment            733                2.0   \n",
              "2          0x7d81           Apartment            737                4.0   \n",
              "3          0x7a57           Apartment            900                3.0   \n",
              "4          0x9409            Bungalow           2238               14.0   \n",
              "...           ...                 ...            ...                ...   \n",
              "39494      0x6e26  Single-family home           1120                3.0   \n",
              "39495      0xa013           Apartment            445                1.0   \n",
              "39496      0x9721            Bungalow           3780                6.0   \n",
              "39497      0x7e25  Single-family home           1266                3.0   \n",
              "39498      0x8cb4  Single-family home           1229                2.0   \n",
              "\n",
              "       Number_of_Doors       Furnishing  Frequency_of_Powercuts Power_Backup  \\\n",
              "0                    1   Semi_Furnished                     0.0           No   \n",
              "1                    2      Unfurnished                     1.0           No   \n",
              "2                    2  Fully Furnished                     0.0           No   \n",
              "3                    2      Unfurnished                     2.0          Yes   \n",
              "4                    6  Fully Furnished                     0.0           No   \n",
              "...                ...              ...                     ...          ...   \n",
              "39494                2              NaN                     0.0           No   \n",
              "39495                3  Fully Furnished                     1.0           No   \n",
              "39496                6      Unfurnished                     0.0          Yes   \n",
              "39497                1   Semi_Furnished                     0.0           No   \n",
              "39498                4  Fully Furnished                     0.0           No   \n",
              "\n",
              "                  Water_Supply  Traffic_Density_Score              Crime_Rate  \\\n",
              "0      Once in a day - Morning                   5.89  Slightly below average   \n",
              "1      Once in a day - Evening                   4.37      Well below average   \n",
              "2      Once in a day - Morning                   7.45  Slightly below average   \n",
              "3      Once in a day - Morning                   6.16      Well above average   \n",
              "4                     All time                   5.46      Well below average   \n",
              "...                        ...                    ...                     ...   \n",
              "39494                 All time                   5.55  Slightly above average   \n",
              "39495                 All time                   5.70  Slightly above average   \n",
              "39496         Once in two days                   6.84      Well below average   \n",
              "39497  Once in a day - Morning                   4.60  Slightly above average   \n",
              "39498                 All time                   8.29      Well below average   \n",
              "\n",
              "      Dust_and_Noise  Air_Quality_Index  Neighborhood_Review  \\\n",
              "0             Medium               90.0                 3.86   \n",
              "1             Medium               96.0                 3.55   \n",
              "2             Medium              121.0                 3.81   \n",
              "3             Medium              100.0                 1.34   \n",
              "4             Medium              116.0                 4.77   \n",
              "...              ...                ...                  ...   \n",
              "39494         Medium               80.0                 3.56   \n",
              "39495         Medium               86.0                 2.93   \n",
              "39496         Medium              137.0                 3.80   \n",
              "39497            NaN               88.0                 3.25   \n",
              "39498           High              132.0                 4.67   \n",
              "\n",
              "       Habitability_score  \n",
              "0                   71.98  \n",
              "1                   71.20  \n",
              "2                   71.39  \n",
              "3                   31.46  \n",
              "4                   93.70  \n",
              "...                   ...  \n",
              "39494               73.43  \n",
              "39495               79.91  \n",
              "39496               81.44  \n",
              "39497               71.33  \n",
              "39498               83.25  \n",
              "\n",
              "[39499 rows x 15 columns]"
            ],
            "text/html": [
              "\n",
              "  <div id=\"df-ce327033-8681-43b8-b4f5-62b4b4b32ebe\">\n",
              "    <div class=\"colab-df-container\">\n",
              "      <div>\n",
              "<style scoped>\n",
              "    .dataframe tbody tr th:only-of-type {\n",
              "        vertical-align: middle;\n",
              "    }\n",
              "\n",
              "    .dataframe tbody tr th {\n",
              "        vertical-align: top;\n",
              "    }\n",
              "\n",
              "    .dataframe thead th {\n",
              "        text-align: right;\n",
              "    }\n",
              "</style>\n",
              "<table border=\"1\" class=\"dataframe\">\n",
              "  <thead>\n",
              "    <tr style=\"text-align: right;\">\n",
              "      <th></th>\n",
              "      <th>Property_ID</th>\n",
              "      <th>Property_Type</th>\n",
              "      <th>Property_Area</th>\n",
              "      <th>Number_of_Windows</th>\n",
              "      <th>Number_of_Doors</th>\n",
              "      <th>Furnishing</th>\n",
              "      <th>Frequency_of_Powercuts</th>\n",
              "      <th>Power_Backup</th>\n",
              "      <th>Water_Supply</th>\n",
              "      <th>Traffic_Density_Score</th>\n",
              "      <th>Crime_Rate</th>\n",
              "      <th>Dust_and_Noise</th>\n",
              "      <th>Air_Quality_Index</th>\n",
              "      <th>Neighborhood_Review</th>\n",
              "      <th>Habitability_score</th>\n",
              "    </tr>\n",
              "  </thead>\n",
              "  <tbody>\n",
              "    <tr>\n",
              "      <th>0</th>\n",
              "      <td>0x21e3</td>\n",
              "      <td>Apartment</td>\n",
              "      <td>106</td>\n",
              "      <td>NaN</td>\n",
              "      <td>1</td>\n",
              "      <td>Semi_Furnished</td>\n",
              "      <td>0.0</td>\n",
              "      <td>No</td>\n",
              "      <td>Once in a day - Morning</td>\n",
              "      <td>5.89</td>\n",
              "      <td>Slightly below average</td>\n",
              "      <td>Medium</td>\n",
              "      <td>90.0</td>\n",
              "      <td>3.86</td>\n",
              "      <td>71.98</td>\n",
              "    </tr>\n",
              "    <tr>\n",
              "      <th>1</th>\n",
              "      <td>0x68d4</td>\n",
              "      <td>Apartment</td>\n",
              "      <td>733</td>\n",
              "      <td>2.0</td>\n",
              "      <td>2</td>\n",
              "      <td>Unfurnished</td>\n",
              "      <td>1.0</td>\n",
              "      <td>No</td>\n",
              "      <td>Once in a day - Evening</td>\n",
              "      <td>4.37</td>\n",
              "      <td>Well below average</td>\n",
              "      <td>Medium</td>\n",
              "      <td>96.0</td>\n",
              "      <td>3.55</td>\n",
              "      <td>71.20</td>\n",
              "    </tr>\n",
              "    <tr>\n",
              "      <th>2</th>\n",
              "      <td>0x7d81</td>\n",
              "      <td>Apartment</td>\n",
              "      <td>737</td>\n",
              "      <td>4.0</td>\n",
              "      <td>2</td>\n",
              "      <td>Fully Furnished</td>\n",
              "      <td>0.0</td>\n",
              "      <td>No</td>\n",
              "      <td>Once in a day - Morning</td>\n",
              "      <td>7.45</td>\n",
              "      <td>Slightly below average</td>\n",
              "      <td>Medium</td>\n",
              "      <td>121.0</td>\n",
              "      <td>3.81</td>\n",
              "      <td>71.39</td>\n",
              "    </tr>\n",
              "    <tr>\n",
              "      <th>3</th>\n",
              "      <td>0x7a57</td>\n",
              "      <td>Apartment</td>\n",
              "      <td>900</td>\n",
              "      <td>3.0</td>\n",
              "      <td>2</td>\n",
              "      <td>Unfurnished</td>\n",
              "      <td>2.0</td>\n",
              "      <td>Yes</td>\n",
              "      <td>Once in a day - Morning</td>\n",
              "      <td>6.16</td>\n",
              "      <td>Well above average</td>\n",
              "      <td>Medium</td>\n",
              "      <td>100.0</td>\n",
              "      <td>1.34</td>\n",
              "      <td>31.46</td>\n",
              "    </tr>\n",
              "    <tr>\n",
              "      <th>4</th>\n",
              "      <td>0x9409</td>\n",
              "      <td>Bungalow</td>\n",
              "      <td>2238</td>\n",
              "      <td>14.0</td>\n",
              "      <td>6</td>\n",
              "      <td>Fully Furnished</td>\n",
              "      <td>0.0</td>\n",
              "      <td>No</td>\n",
              "      <td>All time</td>\n",
              "      <td>5.46</td>\n",
              "      <td>Well below average</td>\n",
              "      <td>Medium</td>\n",
              "      <td>116.0</td>\n",
              "      <td>4.77</td>\n",
              "      <td>93.70</td>\n",
              "    </tr>\n",
              "    <tr>\n",
              "      <th>...</th>\n",
              "      <td>...</td>\n",
              "      <td>...</td>\n",
              "      <td>...</td>\n",
              "      <td>...</td>\n",
              "      <td>...</td>\n",
              "      <td>...</td>\n",
              "      <td>...</td>\n",
              "      <td>...</td>\n",
              "      <td>...</td>\n",
              "      <td>...</td>\n",
              "      <td>...</td>\n",
              "      <td>...</td>\n",
              "      <td>...</td>\n",
              "      <td>...</td>\n",
              "      <td>...</td>\n",
              "    </tr>\n",
              "    <tr>\n",
              "      <th>39494</th>\n",
              "      <td>0x6e26</td>\n",
              "      <td>Single-family home</td>\n",
              "      <td>1120</td>\n",
              "      <td>3.0</td>\n",
              "      <td>2</td>\n",
              "      <td>NaN</td>\n",
              "      <td>0.0</td>\n",
              "      <td>No</td>\n",
              "      <td>All time</td>\n",
              "      <td>5.55</td>\n",
              "      <td>Slightly above average</td>\n",
              "      <td>Medium</td>\n",
              "      <td>80.0</td>\n",
              "      <td>3.56</td>\n",
              "      <td>73.43</td>\n",
              "    </tr>\n",
              "    <tr>\n",
              "      <th>39495</th>\n",
              "      <td>0xa013</td>\n",
              "      <td>Apartment</td>\n",
              "      <td>445</td>\n",
              "      <td>1.0</td>\n",
              "      <td>3</td>\n",
              "      <td>Fully Furnished</td>\n",
              "      <td>1.0</td>\n",
              "      <td>No</td>\n",
              "      <td>All time</td>\n",
              "      <td>5.70</td>\n",
              "      <td>Slightly above average</td>\n",
              "      <td>Medium</td>\n",
              "      <td>86.0</td>\n",
              "      <td>2.93</td>\n",
              "      <td>79.91</td>\n",
              "    </tr>\n",
              "    <tr>\n",
              "      <th>39496</th>\n",
              "      <td>0x9721</td>\n",
              "      <td>Bungalow</td>\n",
              "      <td>3780</td>\n",
              "      <td>6.0</td>\n",
              "      <td>6</td>\n",
              "      <td>Unfurnished</td>\n",
              "      <td>0.0</td>\n",
              "      <td>Yes</td>\n",
              "      <td>Once in two days</td>\n",
              "      <td>6.84</td>\n",
              "      <td>Well below average</td>\n",
              "      <td>Medium</td>\n",
              "      <td>137.0</td>\n",
              "      <td>3.80</td>\n",
              "      <td>81.44</td>\n",
              "    </tr>\n",
              "    <tr>\n",
              "      <th>39497</th>\n",
              "      <td>0x7e25</td>\n",
              "      <td>Single-family home</td>\n",
              "      <td>1266</td>\n",
              "      <td>3.0</td>\n",
              "      <td>1</td>\n",
              "      <td>Semi_Furnished</td>\n",
              "      <td>0.0</td>\n",
              "      <td>No</td>\n",
              "      <td>Once in a day - Morning</td>\n",
              "      <td>4.60</td>\n",
              "      <td>Slightly above average</td>\n",
              "      <td>NaN</td>\n",
              "      <td>88.0</td>\n",
              "      <td>3.25</td>\n",
              "      <td>71.33</td>\n",
              "    </tr>\n",
              "    <tr>\n",
              "      <th>39498</th>\n",
              "      <td>0x8cb4</td>\n",
              "      <td>Single-family home</td>\n",
              "      <td>1229</td>\n",
              "      <td>2.0</td>\n",
              "      <td>4</td>\n",
              "      <td>Fully Furnished</td>\n",
              "      <td>0.0</td>\n",
              "      <td>No</td>\n",
              "      <td>All time</td>\n",
              "      <td>8.29</td>\n",
              "      <td>Well below average</td>\n",
              "      <td>High</td>\n",
              "      <td>132.0</td>\n",
              "      <td>4.67</td>\n",
              "      <td>83.25</td>\n",
              "    </tr>\n",
              "  </tbody>\n",
              "</table>\n",
              "<p>39499 rows × 15 columns</p>\n",
              "</div>\n",
              "      <button class=\"colab-df-convert\" onclick=\"convertToInteractive('df-ce327033-8681-43b8-b4f5-62b4b4b32ebe')\"\n",
              "              title=\"Convert this dataframe to an interactive table.\"\n",
              "              style=\"display:none;\">\n",
              "        \n",
              "  <svg xmlns=\"http://www.w3.org/2000/svg\" height=\"24px\"viewBox=\"0 0 24 24\"\n",
              "       width=\"24px\">\n",
              "    <path d=\"M0 0h24v24H0V0z\" fill=\"none\"/>\n",
              "    <path d=\"M18.56 5.44l.94 2.06.94-2.06 2.06-.94-2.06-.94-.94-2.06-.94 2.06-2.06.94zm-11 1L8.5 8.5l.94-2.06 2.06-.94-2.06-.94L8.5 2.5l-.94 2.06-2.06.94zm10 10l.94 2.06.94-2.06 2.06-.94-2.06-.94-.94-2.06-.94 2.06-2.06.94z\"/><path d=\"M17.41 7.96l-1.37-1.37c-.4-.4-.92-.59-1.43-.59-.52 0-1.04.2-1.43.59L10.3 9.45l-7.72 7.72c-.78.78-.78 2.05 0 2.83L4 21.41c.39.39.9.59 1.41.59.51 0 1.02-.2 1.41-.59l7.78-7.78 2.81-2.81c.8-.78.8-2.07 0-2.86zM5.41 20L4 18.59l7.72-7.72 1.47 1.35L5.41 20z\"/>\n",
              "  </svg>\n",
              "      </button>\n",
              "      \n",
              "  <style>\n",
              "    .colab-df-container {\n",
              "      display:flex;\n",
              "      flex-wrap:wrap;\n",
              "      gap: 12px;\n",
              "    }\n",
              "\n",
              "    .colab-df-convert {\n",
              "      background-color: #E8F0FE;\n",
              "      border: none;\n",
              "      border-radius: 50%;\n",
              "      cursor: pointer;\n",
              "      display: none;\n",
              "      fill: #1967D2;\n",
              "      height: 32px;\n",
              "      padding: 0 0 0 0;\n",
              "      width: 32px;\n",
              "    }\n",
              "\n",
              "    .colab-df-convert:hover {\n",
              "      background-color: #E2EBFA;\n",
              "      box-shadow: 0px 1px 2px rgba(60, 64, 67, 0.3), 0px 1px 3px 1px rgba(60, 64, 67, 0.15);\n",
              "      fill: #174EA6;\n",
              "    }\n",
              "\n",
              "    [theme=dark] .colab-df-convert {\n",
              "      background-color: #3B4455;\n",
              "      fill: #D2E3FC;\n",
              "    }\n",
              "\n",
              "    [theme=dark] .colab-df-convert:hover {\n",
              "      background-color: #434B5C;\n",
              "      box-shadow: 0px 1px 3px 1px rgba(0, 0, 0, 0.15);\n",
              "      filter: drop-shadow(0px 1px 2px rgba(0, 0, 0, 0.3));\n",
              "      fill: #FFFFFF;\n",
              "    }\n",
              "  </style>\n",
              "\n",
              "      <script>\n",
              "        const buttonEl =\n",
              "          document.querySelector('#df-ce327033-8681-43b8-b4f5-62b4b4b32ebe button.colab-df-convert');\n",
              "        buttonEl.style.display =\n",
              "          google.colab.kernel.accessAllowed ? 'block' : 'none';\n",
              "\n",
              "        async function convertToInteractive(key) {\n",
              "          const element = document.querySelector('#df-ce327033-8681-43b8-b4f5-62b4b4b32ebe');\n",
              "          const dataTable =\n",
              "            await google.colab.kernel.invokeFunction('convertToInteractive',\n",
              "                                                     [key], {});\n",
              "          if (!dataTable) return;\n",
              "\n",
              "          const docLinkHtml = 'Like what you see? Visit the ' +\n",
              "            '<a target=\"_blank\" href=https://colab.research.google.com/notebooks/data_table.ipynb>data table notebook</a>'\n",
              "            + ' to learn more about interactive tables.';\n",
              "          element.innerHTML = '';\n",
              "          dataTable['output_type'] = 'display_data';\n",
              "          await google.colab.output.renderOutput(dataTable, element);\n",
              "          const docLink = document.createElement('div');\n",
              "          docLink.innerHTML = docLinkHtml;\n",
              "          element.appendChild(docLink);\n",
              "        }\n",
              "      </script>\n",
              "    </div>\n",
              "  </div>\n",
              "  "
            ]
          },
          "metadata": {},
          "execution_count": 4
        }
      ]
    },
    {
      "cell_type": "markdown",
      "source": [
        "#Test Dataset"
      ],
      "metadata": {
        "id": "2A_UCy7R9TZ9"
      }
    },
    {
      "cell_type": "code",
      "source": [
        "test_dataset"
      ],
      "metadata": {
        "colab": {
          "base_uri": "https://localhost:8080/",
          "height": 730
        },
        "id": "0AvViCqW9XSW",
        "outputId": "91dbdd15-6e0e-45e8-baac-f2aac0724df1"
      },
      "execution_count": 5,
      "outputs": [
        {
          "output_type": "execute_result",
          "data": {
            "text/plain": [
              "      Property_ID       Property_Type  Property_Area  Number_of_Windows  \\\n",
              "0          0x6e93           Apartment            293                3.0   \n",
              "1          0x8787           Apartment            586                4.0   \n",
              "2          0x6c17      Container Home            305                1.0   \n",
              "3          0x9dbd           Apartment            258                2.0   \n",
              "4          0xbfde            Bungalow           3031               12.0   \n",
              "...           ...                 ...            ...                ...   \n",
              "10495      0x423d           Apartment            961                NaN   \n",
              "10496      0x78c5      Container Home            282                1.0   \n",
              "10497       0xbf3              Duplex          27445                NaN   \n",
              "10498      0x305b  Single-family home           1451                2.0   \n",
              "10499      0x5cff           Apartment            578                NaN   \n",
              "\n",
              "       Number_of_Doors       Furnishing  Frequency_of_Powercuts Power_Backup  \\\n",
              "0                    1      Unfurnished                     0.0           No   \n",
              "1                    1   Semi_Furnished                     0.0           No   \n",
              "2                    2   Semi_Furnished                     1.0           No   \n",
              "3                    1   Semi_Furnished                     1.0           No   \n",
              "4                    4  Fully Furnished                     0.0           No   \n",
              "...                ...              ...                     ...          ...   \n",
              "10495                3      Unfurnished                     0.0           No   \n",
              "10496                2   Semi_Furnished                     3.0          Yes   \n",
              "10497                2  Fully Furnished                     0.0           No   \n",
              "10498                3      Unfurnished                     1.0          Yes   \n",
              "10499                1   Semi_Furnished                     0.0           No   \n",
              "\n",
              "                  Water_Supply  Traffic_Density_Score              Crime_Rate  \\\n",
              "0      Once in a day - Morning                   7.28      Well above average   \n",
              "1      Once in a day - Evening                   7.63      Well below average   \n",
              "2                     All time                   5.39  Slightly above average   \n",
              "3                     All time                   7.53  Slightly below average   \n",
              "4                     All time                   8.79      Well above average   \n",
              "...                        ...                    ...                     ...   \n",
              "10495  Once in a day - Evening                   5.44  Slightly below average   \n",
              "10496                 All time                   6.72      Well below average   \n",
              "10497  Once in a day - Evening                   9.28      Well below average   \n",
              "10498  Once in a day - Evening                   6.25      Well below average   \n",
              "10499                 All time                   5.98  Slightly below average   \n",
              "\n",
              "      Dust_and_Noise  Air_Quality_Index  Neighborhood_Review  \n",
              "0             Medium              152.0                 2.52  \n",
              "1             Medium               92.0                 4.16  \n",
              "2             Medium               90.0                 2.92  \n",
              "3             Medium              158.0                 3.45  \n",
              "4               High              186.0                 2.72  \n",
              "...              ...                ...                  ...  \n",
              "10495         Medium               94.0                 3.55  \n",
              "10496         Medium              106.0                 2.90  \n",
              "10497           High              149.0                 4.02  \n",
              "10498         Medium              131.0                 3.49  \n",
              "10499         Medium              112.0                 4.15  \n",
              "\n",
              "[10500 rows x 14 columns]"
            ],
            "text/html": [
              "\n",
              "  <div id=\"df-a434a51b-bb66-4e7a-bf12-a17040761995\">\n",
              "    <div class=\"colab-df-container\">\n",
              "      <div>\n",
              "<style scoped>\n",
              "    .dataframe tbody tr th:only-of-type {\n",
              "        vertical-align: middle;\n",
              "    }\n",
              "\n",
              "    .dataframe tbody tr th {\n",
              "        vertical-align: top;\n",
              "    }\n",
              "\n",
              "    .dataframe thead th {\n",
              "        text-align: right;\n",
              "    }\n",
              "</style>\n",
              "<table border=\"1\" class=\"dataframe\">\n",
              "  <thead>\n",
              "    <tr style=\"text-align: right;\">\n",
              "      <th></th>\n",
              "      <th>Property_ID</th>\n",
              "      <th>Property_Type</th>\n",
              "      <th>Property_Area</th>\n",
              "      <th>Number_of_Windows</th>\n",
              "      <th>Number_of_Doors</th>\n",
              "      <th>Furnishing</th>\n",
              "      <th>Frequency_of_Powercuts</th>\n",
              "      <th>Power_Backup</th>\n",
              "      <th>Water_Supply</th>\n",
              "      <th>Traffic_Density_Score</th>\n",
              "      <th>Crime_Rate</th>\n",
              "      <th>Dust_and_Noise</th>\n",
              "      <th>Air_Quality_Index</th>\n",
              "      <th>Neighborhood_Review</th>\n",
              "    </tr>\n",
              "  </thead>\n",
              "  <tbody>\n",
              "    <tr>\n",
              "      <th>0</th>\n",
              "      <td>0x6e93</td>\n",
              "      <td>Apartment</td>\n",
              "      <td>293</td>\n",
              "      <td>3.0</td>\n",
              "      <td>1</td>\n",
              "      <td>Unfurnished</td>\n",
              "      <td>0.0</td>\n",
              "      <td>No</td>\n",
              "      <td>Once in a day - Morning</td>\n",
              "      <td>7.28</td>\n",
              "      <td>Well above average</td>\n",
              "      <td>Medium</td>\n",
              "      <td>152.0</td>\n",
              "      <td>2.52</td>\n",
              "    </tr>\n",
              "    <tr>\n",
              "      <th>1</th>\n",
              "      <td>0x8787</td>\n",
              "      <td>Apartment</td>\n",
              "      <td>586</td>\n",
              "      <td>4.0</td>\n",
              "      <td>1</td>\n",
              "      <td>Semi_Furnished</td>\n",
              "      <td>0.0</td>\n",
              "      <td>No</td>\n",
              "      <td>Once in a day - Evening</td>\n",
              "      <td>7.63</td>\n",
              "      <td>Well below average</td>\n",
              "      <td>Medium</td>\n",
              "      <td>92.0</td>\n",
              "      <td>4.16</td>\n",
              "    </tr>\n",
              "    <tr>\n",
              "      <th>2</th>\n",
              "      <td>0x6c17</td>\n",
              "      <td>Container Home</td>\n",
              "      <td>305</td>\n",
              "      <td>1.0</td>\n",
              "      <td>2</td>\n",
              "      <td>Semi_Furnished</td>\n",
              "      <td>1.0</td>\n",
              "      <td>No</td>\n",
              "      <td>All time</td>\n",
              "      <td>5.39</td>\n",
              "      <td>Slightly above average</td>\n",
              "      <td>Medium</td>\n",
              "      <td>90.0</td>\n",
              "      <td>2.92</td>\n",
              "    </tr>\n",
              "    <tr>\n",
              "      <th>3</th>\n",
              "      <td>0x9dbd</td>\n",
              "      <td>Apartment</td>\n",
              "      <td>258</td>\n",
              "      <td>2.0</td>\n",
              "      <td>1</td>\n",
              "      <td>Semi_Furnished</td>\n",
              "      <td>1.0</td>\n",
              "      <td>No</td>\n",
              "      <td>All time</td>\n",
              "      <td>7.53</td>\n",
              "      <td>Slightly below average</td>\n",
              "      <td>Medium</td>\n",
              "      <td>158.0</td>\n",
              "      <td>3.45</td>\n",
              "    </tr>\n",
              "    <tr>\n",
              "      <th>4</th>\n",
              "      <td>0xbfde</td>\n",
              "      <td>Bungalow</td>\n",
              "      <td>3031</td>\n",
              "      <td>12.0</td>\n",
              "      <td>4</td>\n",
              "      <td>Fully Furnished</td>\n",
              "      <td>0.0</td>\n",
              "      <td>No</td>\n",
              "      <td>All time</td>\n",
              "      <td>8.79</td>\n",
              "      <td>Well above average</td>\n",
              "      <td>High</td>\n",
              "      <td>186.0</td>\n",
              "      <td>2.72</td>\n",
              "    </tr>\n",
              "    <tr>\n",
              "      <th>...</th>\n",
              "      <td>...</td>\n",
              "      <td>...</td>\n",
              "      <td>...</td>\n",
              "      <td>...</td>\n",
              "      <td>...</td>\n",
              "      <td>...</td>\n",
              "      <td>...</td>\n",
              "      <td>...</td>\n",
              "      <td>...</td>\n",
              "      <td>...</td>\n",
              "      <td>...</td>\n",
              "      <td>...</td>\n",
              "      <td>...</td>\n",
              "      <td>...</td>\n",
              "    </tr>\n",
              "    <tr>\n",
              "      <th>10495</th>\n",
              "      <td>0x423d</td>\n",
              "      <td>Apartment</td>\n",
              "      <td>961</td>\n",
              "      <td>NaN</td>\n",
              "      <td>3</td>\n",
              "      <td>Unfurnished</td>\n",
              "      <td>0.0</td>\n",
              "      <td>No</td>\n",
              "      <td>Once in a day - Evening</td>\n",
              "      <td>5.44</td>\n",
              "      <td>Slightly below average</td>\n",
              "      <td>Medium</td>\n",
              "      <td>94.0</td>\n",
              "      <td>3.55</td>\n",
              "    </tr>\n",
              "    <tr>\n",
              "      <th>10496</th>\n",
              "      <td>0x78c5</td>\n",
              "      <td>Container Home</td>\n",
              "      <td>282</td>\n",
              "      <td>1.0</td>\n",
              "      <td>2</td>\n",
              "      <td>Semi_Furnished</td>\n",
              "      <td>3.0</td>\n",
              "      <td>Yes</td>\n",
              "      <td>All time</td>\n",
              "      <td>6.72</td>\n",
              "      <td>Well below average</td>\n",
              "      <td>Medium</td>\n",
              "      <td>106.0</td>\n",
              "      <td>2.90</td>\n",
              "    </tr>\n",
              "    <tr>\n",
              "      <th>10497</th>\n",
              "      <td>0xbf3</td>\n",
              "      <td>Duplex</td>\n",
              "      <td>27445</td>\n",
              "      <td>NaN</td>\n",
              "      <td>2</td>\n",
              "      <td>Fully Furnished</td>\n",
              "      <td>0.0</td>\n",
              "      <td>No</td>\n",
              "      <td>Once in a day - Evening</td>\n",
              "      <td>9.28</td>\n",
              "      <td>Well below average</td>\n",
              "      <td>High</td>\n",
              "      <td>149.0</td>\n",
              "      <td>4.02</td>\n",
              "    </tr>\n",
              "    <tr>\n",
              "      <th>10498</th>\n",
              "      <td>0x305b</td>\n",
              "      <td>Single-family home</td>\n",
              "      <td>1451</td>\n",
              "      <td>2.0</td>\n",
              "      <td>3</td>\n",
              "      <td>Unfurnished</td>\n",
              "      <td>1.0</td>\n",
              "      <td>Yes</td>\n",
              "      <td>Once in a day - Evening</td>\n",
              "      <td>6.25</td>\n",
              "      <td>Well below average</td>\n",
              "      <td>Medium</td>\n",
              "      <td>131.0</td>\n",
              "      <td>3.49</td>\n",
              "    </tr>\n",
              "    <tr>\n",
              "      <th>10499</th>\n",
              "      <td>0x5cff</td>\n",
              "      <td>Apartment</td>\n",
              "      <td>578</td>\n",
              "      <td>NaN</td>\n",
              "      <td>1</td>\n",
              "      <td>Semi_Furnished</td>\n",
              "      <td>0.0</td>\n",
              "      <td>No</td>\n",
              "      <td>All time</td>\n",
              "      <td>5.98</td>\n",
              "      <td>Slightly below average</td>\n",
              "      <td>Medium</td>\n",
              "      <td>112.0</td>\n",
              "      <td>4.15</td>\n",
              "    </tr>\n",
              "  </tbody>\n",
              "</table>\n",
              "<p>10500 rows × 14 columns</p>\n",
              "</div>\n",
              "      <button class=\"colab-df-convert\" onclick=\"convertToInteractive('df-a434a51b-bb66-4e7a-bf12-a17040761995')\"\n",
              "              title=\"Convert this dataframe to an interactive table.\"\n",
              "              style=\"display:none;\">\n",
              "        \n",
              "  <svg xmlns=\"http://www.w3.org/2000/svg\" height=\"24px\"viewBox=\"0 0 24 24\"\n",
              "       width=\"24px\">\n",
              "    <path d=\"M0 0h24v24H0V0z\" fill=\"none\"/>\n",
              "    <path d=\"M18.56 5.44l.94 2.06.94-2.06 2.06-.94-2.06-.94-.94-2.06-.94 2.06-2.06.94zm-11 1L8.5 8.5l.94-2.06 2.06-.94-2.06-.94L8.5 2.5l-.94 2.06-2.06.94zm10 10l.94 2.06.94-2.06 2.06-.94-2.06-.94-.94-2.06-.94 2.06-2.06.94z\"/><path d=\"M17.41 7.96l-1.37-1.37c-.4-.4-.92-.59-1.43-.59-.52 0-1.04.2-1.43.59L10.3 9.45l-7.72 7.72c-.78.78-.78 2.05 0 2.83L4 21.41c.39.39.9.59 1.41.59.51 0 1.02-.2 1.41-.59l7.78-7.78 2.81-2.81c.8-.78.8-2.07 0-2.86zM5.41 20L4 18.59l7.72-7.72 1.47 1.35L5.41 20z\"/>\n",
              "  </svg>\n",
              "      </button>\n",
              "      \n",
              "  <style>\n",
              "    .colab-df-container {\n",
              "      display:flex;\n",
              "      flex-wrap:wrap;\n",
              "      gap: 12px;\n",
              "    }\n",
              "\n",
              "    .colab-df-convert {\n",
              "      background-color: #E8F0FE;\n",
              "      border: none;\n",
              "      border-radius: 50%;\n",
              "      cursor: pointer;\n",
              "      display: none;\n",
              "      fill: #1967D2;\n",
              "      height: 32px;\n",
              "      padding: 0 0 0 0;\n",
              "      width: 32px;\n",
              "    }\n",
              "\n",
              "    .colab-df-convert:hover {\n",
              "      background-color: #E2EBFA;\n",
              "      box-shadow: 0px 1px 2px rgba(60, 64, 67, 0.3), 0px 1px 3px 1px rgba(60, 64, 67, 0.15);\n",
              "      fill: #174EA6;\n",
              "    }\n",
              "\n",
              "    [theme=dark] .colab-df-convert {\n",
              "      background-color: #3B4455;\n",
              "      fill: #D2E3FC;\n",
              "    }\n",
              "\n",
              "    [theme=dark] .colab-df-convert:hover {\n",
              "      background-color: #434B5C;\n",
              "      box-shadow: 0px 1px 3px 1px rgba(0, 0, 0, 0.15);\n",
              "      filter: drop-shadow(0px 1px 2px rgba(0, 0, 0, 0.3));\n",
              "      fill: #FFFFFF;\n",
              "    }\n",
              "  </style>\n",
              "\n",
              "      <script>\n",
              "        const buttonEl =\n",
              "          document.querySelector('#df-a434a51b-bb66-4e7a-bf12-a17040761995 button.colab-df-convert');\n",
              "        buttonEl.style.display =\n",
              "          google.colab.kernel.accessAllowed ? 'block' : 'none';\n",
              "\n",
              "        async function convertToInteractive(key) {\n",
              "          const element = document.querySelector('#df-a434a51b-bb66-4e7a-bf12-a17040761995');\n",
              "          const dataTable =\n",
              "            await google.colab.kernel.invokeFunction('convertToInteractive',\n",
              "                                                     [key], {});\n",
              "          if (!dataTable) return;\n",
              "\n",
              "          const docLinkHtml = 'Like what you see? Visit the ' +\n",
              "            '<a target=\"_blank\" href=https://colab.research.google.com/notebooks/data_table.ipynb>data table notebook</a>'\n",
              "            + ' to learn more about interactive tables.';\n",
              "          element.innerHTML = '';\n",
              "          dataTable['output_type'] = 'display_data';\n",
              "          await google.colab.output.renderOutput(dataTable, element);\n",
              "          const docLink = document.createElement('div');\n",
              "          docLink.innerHTML = docLinkHtml;\n",
              "          element.appendChild(docLink);\n",
              "        }\n",
              "      </script>\n",
              "    </div>\n",
              "  </div>\n",
              "  "
            ]
          },
          "metadata": {},
          "execution_count": 5
        }
      ]
    },
    {
      "cell_type": "markdown",
      "source": [
        "# OneHotEncode in the test dataset "
      ],
      "metadata": {
        "id": "FDu3a5_19cyl"
      }
    },
    {
      "cell_type": "code",
      "source": [
        "from sklearn.compose import ColumnTransformer\n",
        "from sklearn.preprocessing import OneHotEncoder\n",
        "test_ct1 = ColumnTransformer(transformers=[('encoder', OneHotEncoder(), [0])], remainder='passthrough')\n",
        "test_data = np.array(test_ct1.fit_transform(test_data))\n",
        "test_ct2 = ColumnTransformer(transformers=[('encoder', OneHotEncoder(), [9])], remainder='passthrough')\n",
        "test_data = np.array(test_ct2.fit_transform(test_data))\n",
        "test_ct3 = ColumnTransformer(transformers=[('encoder', OneHotEncoder(), [14])], remainder='passthrough')\n",
        "test_data = np.array(test_ct3.fit_transform(test_data))\n",
        "test_ct4 = ColumnTransformer(transformers=[('encoder', OneHotEncoder(), [17])], remainder='passthrough')\n",
        "test_data = np.array(test_ct4.fit_transform(test_data))\n",
        "test_ct5 = ColumnTransformer(transformers=[('encoder', OneHotEncoder(), [23])], remainder='passthrough')\n",
        "test_data = np.array(test_ct5.fit_transform(test_data))\n",
        "test_ct6 = ColumnTransformer(transformers=[('encoder', OneHotEncoder(), [28])], remainder='passthrough')\n",
        "test_data = np.array(test_ct6.fit_transform(test_data))\n"
      ],
      "metadata": {
        "id": "fEcaov3Q9g3v"
      },
      "execution_count": 6,
      "outputs": []
    },
    {
      "cell_type": "markdown",
      "source": [
        "# OneHotEncode in the train dataset "
      ],
      "metadata": {
        "id": "81EU_rUK9kGk"
      }
    },
    {
      "cell_type": "code",
      "source": [
        "ct = ColumnTransformer(transformers=[('encoder', OneHotEncoder(), [0])], remainder='passthrough')\n",
        "X = np.array(ct.fit_transform(X))\n",
        "ct2 = ColumnTransformer(transformers=[('encoder', OneHotEncoder(), [9])], remainder='passthrough')\n",
        "X = np.array(ct2.fit_transform(X))\n",
        "ct3 = ColumnTransformer(transformers=[('encoder', OneHotEncoder(), [14])], remainder='passthrough')\n",
        "X = np.array(ct3.fit_transform(X))\n",
        "ct4 = ColumnTransformer(transformers=[('encoder', OneHotEncoder(), [17])], remainder='passthrough')\n",
        "X = np.array(ct4.fit_transform(X))\n",
        "ct5 = ColumnTransformer(transformers=[('encoder', OneHotEncoder(), [23])], remainder='passthrough')\n",
        "X = np.array(ct5.fit_transform(X))\n",
        "ct6 = ColumnTransformer(transformers=[('encoder', OneHotEncoder(), [28])], remainder='passthrough')\n",
        "X = np.array(ct6.fit_transform(X))"
      ],
      "metadata": {
        "id": "_KuuaJ_q9pLY"
      },
      "execution_count": 7,
      "outputs": []
    },
    {
      "cell_type": "markdown",
      "source": [
        "# Taking care of Missing values "
      ],
      "metadata": {
        "id": "SzpGB9v49t39"
      }
    },
    {
      "cell_type": "code",
      "source": [
        "from sklearn.impute import SimpleImputer\n",
        "imputer = SimpleImputer(missing_values = np.nan, strategy=\"mean\")\n",
        "imputer.fit(X[:, 28:34])\n",
        "X[:, 28:34] = imputer.transform(X[:, 28:34])"
      ],
      "metadata": {
        "id": "0QmSM73Y9w5T"
      },
      "execution_count": 8,
      "outputs": []
    },
    {
      "cell_type": "code",
      "source": [
        "imputer2 = SimpleImputer(missing_values = np.nan, strategy=\"mean\")\n",
        "imputer2.fit(test_data[:, 28:34])\n",
        "test_data[:, 28:34] = imputer2.transform(test_data[:, 28:34])"
      ],
      "metadata": {
        "id": "YGq9cFoU92G7"
      },
      "execution_count": 9,
      "outputs": []
    },
    {
      "cell_type": "markdown",
      "source": [
        "# Feature Scaling"
      ],
      "metadata": {
        "id": "z3WEj1sc95U5"
      }
    },
    {
      "cell_type": "code",
      "source": [
        "from sklearn.preprocessing import StandardScaler\n",
        "sc = StandardScaler()\n",
        "sc1 = StandardScaler()\n",
        "X[:, 28:34] = sc.fit_transform(X[:, 28:34])\n",
        "test_data[:, 28:34] = sc1.fit_transform(test_data[:, 28:34])"
      ],
      "metadata": {
        "id": "N69r2wE596D2"
      },
      "execution_count": 10,
      "outputs": []
    },
    {
      "cell_type": "code",
      "source": [
        "X[0]"
      ],
      "metadata": {
        "colab": {
          "base_uri": "https://localhost:8080/"
        },
        "id": "eOOXaliK9-yj",
        "outputId": "46cd1a45-6853-41a8-e188-50ea119ae27b"
      },
      "execution_count": 11,
      "outputs": [
        {
          "output_type": "execute_result",
          "data": {
            "text/plain": [
              "array([0.0, 0.0, 1.0, 0.0, 0.0, 1.0, 0.0, 0.0, 0.0, 0.0, 0.0, 0.0, 1.0,\n",
              "       0.0, 0.0, 1.0, 0.0, 0.0, 1.0, 0.0, 0.0, 0.0, 1.0, 0.0, 0.0, 0.0,\n",
              "       0.0, 106, 1.8882969723253072e-14, -1.1283333495840067,\n",
              "       -0.6559358167072328, -0.3810650164418948, -0.5025748031975958,\n",
              "       0.15568473927605375], dtype=object)"
            ]
          },
          "metadata": {},
          "execution_count": 11
        }
      ]
    },
    {
      "cell_type": "markdown",
      "source": [
        "# Spliting the  datasets"
      ],
      "metadata": {
        "id": "TG5r4ZrV-BP9"
      }
    },
    {
      "cell_type": "code",
      "source": [
        "from sklearn.model_selection import train_test_split\n",
        "X_train, X_test, y_train, y_test = train_test_split(X, y, test_size = 0.2, random_state = 0)"
      ],
      "metadata": {
        "id": "3MQMEHVV-B31"
      },
      "execution_count": 12,
      "outputs": []
    },
    {
      "cell_type": "code",
      "source": [
        "X_train.shape"
      ],
      "metadata": {
        "colab": {
          "base_uri": "https://localhost:8080/"
        },
        "id": "eZ3g63O8-IMf",
        "outputId": "bbcf052e-2968-44bf-f791-06813aa97413"
      },
      "execution_count": 13,
      "outputs": [
        {
          "output_type": "execute_result",
          "data": {
            "text/plain": [
              "(31599, 34)"
            ]
          },
          "metadata": {},
          "execution_count": 13
        }
      ]
    },
    {
      "cell_type": "code",
      "source": [
        "X_test.shape"
      ],
      "metadata": {
        "colab": {
          "base_uri": "https://localhost:8080/"
        },
        "id": "oiu4pR0l-KIg",
        "outputId": "e6d849df-5aac-4401-be2c-c2827d3713da"
      },
      "execution_count": 14,
      "outputs": [
        {
          "output_type": "execute_result",
          "data": {
            "text/plain": [
              "(7900, 34)"
            ]
          },
          "metadata": {},
          "execution_count": 14
        }
      ]
    },
    {
      "cell_type": "code",
      "source": [
        "def evaluation(y, predictions):\n",
        "    r_squared = r2_score(y, predictions)\n",
        "    return r_squared"
      ],
      "metadata": {
        "id": "W-5Ua0qi-Njs"
      },
      "execution_count": 15,
      "outputs": []
    },
    {
      "cell_type": "code",
      "source": [
        "models = pd.DataFrame(columns=[\"Model\",\"R2 Score\"])"
      ],
      "metadata": {
        "id": "taOj8NJ1-OSt"
      },
      "execution_count": 16,
      "outputs": []
    },
    {
      "cell_type": "markdown",
      "source": [
        "#Training the Multiple Linear Regression model"
      ],
      "metadata": {
        "id": "YEyw5ZNK-SlE"
      }
    },
    {
      "cell_type": "code",
      "source": [
        "from sklearn.linear_model import LinearRegression\n",
        "regressor = LinearRegression()\n",
        "regressor.fit(X_train, y_train)"
      ],
      "metadata": {
        "colab": {
          "base_uri": "https://localhost:8080/"
        },
        "id": "v5CXvNvY-WAo",
        "outputId": "8cd9ec21-834f-4593-9aa9-d5b6c0d2b724"
      },
      "execution_count": 17,
      "outputs": [
        {
          "output_type": "execute_result",
          "data": {
            "text/plain": [
              "LinearRegression()"
            ]
          },
          "metadata": {},
          "execution_count": 17
        }
      ]
    },
    {
      "cell_type": "code",
      "source": [
        "lnr_y_pred = regressor.predict(X_test)\n",
        "np.set_printoptions(precision=2)\n",
        "print(np.concatenate((lnr_y_pred.reshape(len(lnr_y_pred),1), y_test.reshape(len(y_test),1)),1))\n",
        "r_squared = evaluation(y_test, lnr_y_pred)\n",
        "\n",
        "print(\"-\"*30)\n",
        "print(\"R2 Score:\", r_squared)\n",
        "new_model_row = {\"Model\": \"Multiple Linear Regression\",\"R2 Score\": r_squared}\n",
        "models = models.append(new_model_row, ignore_index=True)"
      ],
      "metadata": {
        "colab": {
          "base_uri": "https://localhost:8080/"
        },
        "id": "IFUoVdAm-ZLt",
        "outputId": "118e4bd7-10b0-4c5d-c034-d972bef90da1"
      },
      "execution_count": 18,
      "outputs": [
        {
          "output_type": "stream",
          "name": "stdout",
          "text": [
            "[[77.83 80.55]\n",
            " [86.79 87.16]\n",
            " [63.79 69.25]\n",
            " ...\n",
            " [59.28 72.66]\n",
            " [82.33 82.  ]\n",
            " [95.13 97.13]]\n",
            "------------------------------\n",
            "R2 Score: 0.5820177726095304\n"
          ]
        }
      ]
    },
    {
      "cell_type": "markdown",
      "source": [
        "# Training the SVR model\n"
      ],
      "metadata": {
        "id": "2EM2B3dS-cyf"
      }
    },
    {
      "cell_type": "code",
      "source": [
        "from sklearn.svm import SVR\n",
        "svr_regressor = SVR(kernel = 'rbf')\n",
        "svr_regressor.fit(X_train, y_train)"
      ],
      "metadata": {
        "colab": {
          "base_uri": "https://localhost:8080/"
        },
        "id": "y-z-z75t-dyl",
        "outputId": "6ec92787-f225-4cba-e7c8-5503fae19c54"
      },
      "execution_count": 19,
      "outputs": [
        {
          "output_type": "execute_result",
          "data": {
            "text/plain": [
              "SVR()"
            ]
          },
          "metadata": {},
          "execution_count": 19
        }
      ]
    },
    {
      "cell_type": "code",
      "source": [
        "svr_y_pred = svr_regressor.predict(X_test)\n",
        "np.set_printoptions(precision=2)\n",
        "print(np.concatenate((svr_y_pred.reshape(len(svr_y_pred),1), y_test.reshape(len(y_test),1)),1))\n",
        "print(\"-\"*30)\n",
        "r_squared = evaluation(y_test, svr_y_pred)\n",
        "print(\"R2 Score:\", r_squared)\n",
        "new_model_row = {\"Model\": \"SVR\",\"R2 Score\": r_squared}\n",
        "models = models.append(new_model_row, ignore_index=True)"
      ],
      "metadata": {
        "colab": {
          "base_uri": "https://localhost:8080/"
        },
        "id": "c4Yyqs7X-gCd",
        "outputId": "20ca382f-5054-4796-aed3-91b013be9ab9"
      },
      "execution_count": 20,
      "outputs": [
        {
          "output_type": "stream",
          "name": "stdout",
          "text": [
            "[[76.27 80.55]\n",
            " [75.61 87.16]\n",
            " [75.95 69.25]\n",
            " ...\n",
            " [76.11 72.66]\n",
            " [74.77 82.  ]\n",
            " [77.84 97.13]]\n",
            "------------------------------\n",
            "R2 Score: -0.0048487019555059074\n"
          ]
        }
      ]
    },
    {
      "cell_type": "markdown",
      "source": [
        "# Training the Polynomial Regression model "
      ],
      "metadata": {
        "id": "8cAFIeNs-isI"
      }
    },
    {
      "cell_type": "code",
      "source": [
        "from sklearn.preprocessing import PolynomialFeatures\n",
        "poly_reg = PolynomialFeatures(degree=2)\n",
        "X_train_2d = poly_reg.fit_transform(X_train)\n",
        "X_test_2d = poly_reg.transform(X_test)\n",
        "\n",
        "lin_reg = LinearRegression()\n",
        "lin_reg.fit(X_train_2d, y_train)"
      ],
      "metadata": {
        "colab": {
          "base_uri": "https://localhost:8080/"
        },
        "id": "LOYJPwRr-ktR",
        "outputId": "10dcc27f-27ac-49df-e933-0f87db394318"
      },
      "execution_count": 21,
      "outputs": [
        {
          "output_type": "execute_result",
          "data": {
            "text/plain": [
              "LinearRegression()"
            ]
          },
          "metadata": {},
          "execution_count": 21
        }
      ]
    },
    {
      "cell_type": "code",
      "source": [
        "predictions = lin_reg.predict(X_test_2d)\n",
        "np.set_printoptions(precision=2)\n",
        "print(np.concatenate((predictions.reshape(len(predictions),1), y_test.reshape(len(y_test),1)),1))\n",
        "print(\"-\"*30)\n",
        "r_squared = evaluation(y_test, predictions)\n",
        "print(\"R2 Score:\", r_squared)\n",
        "new_model_row = {\"Model\": \"Polynomial Regression\",\"R2 Score\": r_squared}\n",
        "models = models.append(new_model_row, ignore_index=True)"
      ],
      "metadata": {
        "colab": {
          "base_uri": "https://localhost:8080/"
        },
        "id": "RaKdDz1B-oTy",
        "outputId": "e6f43bbf-040c-482e-9035-83342987c27d"
      },
      "execution_count": 22,
      "outputs": [
        {
          "output_type": "stream",
          "name": "stdout",
          "text": [
            "[[78.52 80.55]\n",
            " [83.03 87.16]\n",
            " [63.82 69.25]\n",
            " ...\n",
            " [60.37 72.66]\n",
            " [87.89 82.  ]\n",
            " [80.97 97.13]]\n",
            "------------------------------\n",
            "R2 Score: 0.7046216578214551\n"
          ]
        }
      ]
    },
    {
      "cell_type": "markdown",
      "source": [
        "# Training the Decision Tree Regressin model "
      ],
      "metadata": {
        "id": "I-yPoI2V-rHI"
      }
    },
    {
      "cell_type": "code",
      "source": [
        "from sklearn.tree import DecisionTreeRegressor\n",
        "decisiontree_regressor = DecisionTreeRegressor(random_state = 0)\n",
        "decisiontree_regressor.fit(X_train, y_train)"
      ],
      "metadata": {
        "colab": {
          "base_uri": "https://localhost:8080/"
        },
        "id": "IagSvJp0-r4m",
        "outputId": "ef4dfb0b-2387-455e-e6d3-0aea7517acf5"
      },
      "execution_count": 23,
      "outputs": [
        {
          "output_type": "execute_result",
          "data": {
            "text/plain": [
              "DecisionTreeRegressor(random_state=0)"
            ]
          },
          "metadata": {},
          "execution_count": 23
        }
      ]
    },
    {
      "cell_type": "code",
      "source": [
        "decitree_y_pred = decisiontree_regressor.predict(X_test)\n",
        "np.set_printoptions(precision=2)\n",
        "print(np.concatenate((decitree_y_pred.reshape(len(decitree_y_pred),1), y_test.reshape(len(y_test),1)),1))\n",
        "print(\"-\"*30)\n",
        "r_squared = evaluation(y_test, decitree_y_pred)\n",
        "print(\"R2 Score:\", r_squared)\n",
        "new_model_row = {\"Model\": \"Decision Tree Regression\",\"R2 Score\": r_squared}\n",
        "models = models.append(new_model_row, ignore_index=True)"
      ],
      "metadata": {
        "colab": {
          "base_uri": "https://localhost:8080/"
        },
        "id": "c7viigPo-viC",
        "outputId": "252c460d-ea31-465a-c622-d9d447d4a4b1"
      },
      "execution_count": 24,
      "outputs": [
        {
          "output_type": "stream",
          "name": "stdout",
          "text": [
            "[[89.59 80.55]\n",
            " [82.39 87.16]\n",
            " [74.9  69.25]\n",
            " ...\n",
            " [74.78 72.66]\n",
            " [91.5  82.  ]\n",
            " [84.64 97.13]]\n",
            "------------------------------\n",
            "R2 Score: 0.6633389341587386\n"
          ]
        }
      ]
    },
    {
      "cell_type": "markdown",
      "source": [
        "# Training the Random Forest Regression model"
      ],
      "metadata": {
        "id": "9ciis-kA-yvb"
      }
    },
    {
      "cell_type": "code",
      "source": [
        "from sklearn.ensemble import RandomForestRegressor\n",
        "RandomForest_regressor = RandomForestRegressor(n_estimators = 10, random_state = 0)\n",
        "RandomForest_regressor.fit(X_train, y_train)"
      ],
      "metadata": {
        "colab": {
          "base_uri": "https://localhost:8080/"
        },
        "id": "q5ub6eLw-zNe",
        "outputId": "7e13efc1-b48f-403b-fb4b-89e94e9d9b34"
      },
      "execution_count": 25,
      "outputs": [
        {
          "output_type": "execute_result",
          "data": {
            "text/plain": [
              "RandomForestRegressor(n_estimators=10, random_state=0)"
            ]
          },
          "metadata": {},
          "execution_count": 25
        }
      ]
    },
    {
      "cell_type": "code",
      "source": [
        "RandomForest_y_pred = RandomForest_regressor.predict(X_test)\n",
        "np.set_printoptions(precision=2)\n",
        "print(np.concatenate((RandomForest_y_pred.reshape(len(RandomForest_y_pred),1), y_test.reshape(len(y_test),1)),1))\n",
        "\n",
        "print(\"-\"*30)\n",
        "r_squared = evaluation(y_test, RandomForest_y_pred)\n",
        "print(\"R2 Score:\", r_squared)\n",
        "new_model_row = {\"Model\": \"Random Forest Regression\",\"R2 Score\": r_squared}\n",
        "models = models.append(new_model_row, ignore_index=True)"
      ],
      "metadata": {
        "colab": {
          "base_uri": "https://localhost:8080/"
        },
        "id": "aXeMRhlg-2l4",
        "outputId": "2d4ad545-8c08-4d9d-df31-fc96d56637e6"
      },
      "execution_count": 26,
      "outputs": [
        {
          "output_type": "stream",
          "name": "stdout",
          "text": [
            "[[80.67 80.55]\n",
            " [85.69 87.16]\n",
            " [68.22 69.25]\n",
            " ...\n",
            " [68.82 72.66]\n",
            " [81.26 82.  ]\n",
            " [92.96 97.13]]\n",
            "------------------------------\n",
            "R2 Score: 0.808465214689801\n"
          ]
        }
      ]
    },
    {
      "cell_type": "markdown",
      "source": [
        "# Training the Ridge model "
      ],
      "metadata": {
        "id": "xKegNRWh-5Rb"
      }
    },
    {
      "cell_type": "code",
      "source": [
        "from sklearn.linear_model import LinearRegression, Lasso, Ridge, ElasticNet\n",
        "ridge = Ridge()\n",
        "ridge.fit(X_train, y_train)"
      ],
      "metadata": {
        "colab": {
          "base_uri": "https://localhost:8080/"
        },
        "id": "PkHfwIdk-7en",
        "outputId": "850f6e7e-de78-4a69-d2fc-54c7a9d041fe"
      },
      "execution_count": 27,
      "outputs": [
        {
          "output_type": "execute_result",
          "data": {
            "text/plain": [
              "Ridge()"
            ]
          },
          "metadata": {},
          "execution_count": 27
        }
      ]
    },
    {
      "cell_type": "code",
      "source": [
        "ridge_y_pred = ridge.predict(X_test)\n",
        "np.set_printoptions(precision=2)\n",
        "print(np.concatenate((ridge_y_pred.reshape(len(ridge_y_pred),1), y_test.reshape(len(y_test),1)),1))\n",
        "print(\"-\"*30)\n",
        "r_squared = evaluation(y_test, ridge_y_pred)\n",
        "print(\"R2 Score:\", r_squared)\n",
        "new_model_row = {\"Model\": \"Ridge\",\"R2 Score\": r_squared}\n",
        "models = models.append(new_model_row, ignore_index=True)"
      ],
      "metadata": {
        "colab": {
          "base_uri": "https://localhost:8080/"
        },
        "id": "E6g_e5bC_AL4",
        "outputId": "4f1c6e77-fe73-49f6-f96f-9bfe95278edb"
      },
      "execution_count": 28,
      "outputs": [
        {
          "output_type": "stream",
          "name": "stdout",
          "text": [
            "[[77.83 80.55]\n",
            " [86.79 87.16]\n",
            " [63.79 69.25]\n",
            " ...\n",
            " [59.28 72.66]\n",
            " [82.33 82.  ]\n",
            " [95.13 97.13]]\n",
            "------------------------------\n",
            "R2 Score: 0.5820200085872065\n"
          ]
        }
      ]
    },
    {
      "cell_type": "markdown",
      "source": [
        "# Training the Lasso Model"
      ],
      "metadata": {
        "id": "6BY3Nwqj_Cvb"
      }
    },
    {
      "cell_type": "code",
      "source": [
        "lasso = Lasso()\n",
        "lasso.fit(X_train, y_train)"
      ],
      "metadata": {
        "colab": {
          "base_uri": "https://localhost:8080/"
        },
        "id": "tco7DDae_DUH",
        "outputId": "53d68003-6417-4461-c0a8-14e9d131bc80"
      },
      "execution_count": 29,
      "outputs": [
        {
          "output_type": "execute_result",
          "data": {
            "text/plain": [
              "Lasso()"
            ]
          },
          "metadata": {},
          "execution_count": 29
        }
      ]
    },
    {
      "cell_type": "code",
      "source": [
        "lasso_y_pred = lasso.predict(X_test)\n",
        "np.set_printoptions(precision=2)\n",
        "print(np.concatenate((lasso_y_pred.reshape(len(lasso_y_pred),1), y_test.reshape(len(y_test),1)),1))\n",
        "print(\"-\"*30)\n",
        "r_squared = evaluation(y_test, lasso_y_pred)\n",
        "print(\"R2 Score:\", r_squared)\n",
        "new_model_row = {\"Model\": \"Lasso\",\"R2 Score\": r_squared}\n",
        "models = models.append(new_model_row, ignore_index=True)"
      ],
      "metadata": {
        "colab": {
          "base_uri": "https://localhost:8080/"
        },
        "id": "4-eH6DZO_H18",
        "outputId": "43b20cb7-c618-49b9-d9fb-51fe8e8e11b5"
      },
      "execution_count": 30,
      "outputs": [
        {
          "output_type": "stream",
          "name": "stdout",
          "text": [
            "[[77.78 80.55]\n",
            " [83.91 87.16]\n",
            " [67.64 69.25]\n",
            " ...\n",
            " [67.36 72.66]\n",
            " [79.97 82.  ]\n",
            " [87.72 97.13]]\n",
            "------------------------------\n",
            "R2 Score: 0.46440553165167064\n"
          ]
        }
      ]
    },
    {
      "cell_type": "markdown",
      "source": [
        "# Training the ElasticNet Model"
      ],
      "metadata": {
        "id": "5HhbSzJG_Kgi"
      }
    },
    {
      "cell_type": "code",
      "source": [
        "elastic_net = ElasticNet()\n",
        "elastic_net.fit(X_train, y_train)"
      ],
      "metadata": {
        "colab": {
          "base_uri": "https://localhost:8080/"
        },
        "id": "rJAgVbiE_NU0",
        "outputId": "c7b87a1f-9886-4b87-c4c0-d84522ff4285"
      },
      "execution_count": 31,
      "outputs": [
        {
          "output_type": "execute_result",
          "data": {
            "text/plain": [
              "ElasticNet()"
            ]
          },
          "metadata": {},
          "execution_count": 31
        }
      ]
    },
    {
      "cell_type": "code",
      "source": [
        "elastic_y_pred = elastic_net.predict(X_test)\n",
        "np.set_printoptions(precision=2)\n",
        "print(np.concatenate((elastic_y_pred.reshape(len(elastic_y_pred),1), y_test.reshape(len(y_test),1)),1))\n",
        "print(\"-\"*30)\n",
        "r_squared = evaluation(y_test, elastic_y_pred)\n",
        "print(\"R2 Score:\", r_squared)\n",
        "new_model_row = {\"Model\": \"ElasticNet\",\"R2 Score\": r_squared}\n",
        "models = models.append(new_model_row, ignore_index=True)"
      ],
      "metadata": {
        "colab": {
          "base_uri": "https://localhost:8080/"
        },
        "id": "gC3cEZk5_Reu",
        "outputId": "ab2b2c88-2894-45fd-f754-e7ccad747481"
      },
      "execution_count": 32,
      "outputs": [
        {
          "output_type": "stream",
          "name": "stdout",
          "text": [
            "[[75.56 80.55]\n",
            " [80.34 87.16]\n",
            " [70.82 69.25]\n",
            " ...\n",
            " [67.9  72.66]\n",
            " [80.43 82.  ]\n",
            " [84.25 97.13]]\n",
            "------------------------------\n",
            "R2 Score: 0.37051161324318593\n"
          ]
        }
      ]
    },
    {
      "cell_type": "code",
      "source": [
        "from google.colab import data_table\n",
        "data_table.disable_dataframe_formatter()\n",
        "models.sort_values(by=\"R2 Score\")\n"
      ],
      "metadata": {
        "colab": {
          "base_uri": "https://localhost:8080/",
          "height": 300
        },
        "id": "PDfg9csC_ULY",
        "outputId": "cfbad7dc-ce11-4fa6-acb9-9a7d10ca728c"
      },
      "execution_count": 40,
      "outputs": [
        {
          "output_type": "execute_result",
          "data": {
            "text/plain": [
              "                        Model  R2 Score\n",
              "1                         SVR -0.004849\n",
              "7                  ElasticNet  0.370512\n",
              "6                       Lasso  0.464406\n",
              "0  Multiple Linear Regression  0.582018\n",
              "5                       Ridge  0.582020\n",
              "3    Decision Tree Regression  0.663339\n",
              "2       Polynomial Regression  0.704622\n",
              "4    Random Forest Regression  0.808465"
            ],
            "text/html": [
              "\n",
              "  <div id=\"df-6ef21faa-3e76-439b-b1fe-765714150195\">\n",
              "    <div class=\"colab-df-container\">\n",
              "      <div>\n",
              "<style scoped>\n",
              "    .dataframe tbody tr th:only-of-type {\n",
              "        vertical-align: middle;\n",
              "    }\n",
              "\n",
              "    .dataframe tbody tr th {\n",
              "        vertical-align: top;\n",
              "    }\n",
              "\n",
              "    .dataframe thead th {\n",
              "        text-align: right;\n",
              "    }\n",
              "</style>\n",
              "<table border=\"1\" class=\"dataframe\">\n",
              "  <thead>\n",
              "    <tr style=\"text-align: right;\">\n",
              "      <th></th>\n",
              "      <th>Model</th>\n",
              "      <th>R2 Score</th>\n",
              "    </tr>\n",
              "  </thead>\n",
              "  <tbody>\n",
              "    <tr>\n",
              "      <th>1</th>\n",
              "      <td>SVR</td>\n",
              "      <td>-0.004849</td>\n",
              "    </tr>\n",
              "    <tr>\n",
              "      <th>7</th>\n",
              "      <td>ElasticNet</td>\n",
              "      <td>0.370512</td>\n",
              "    </tr>\n",
              "    <tr>\n",
              "      <th>6</th>\n",
              "      <td>Lasso</td>\n",
              "      <td>0.464406</td>\n",
              "    </tr>\n",
              "    <tr>\n",
              "      <th>0</th>\n",
              "      <td>Multiple Linear Regression</td>\n",
              "      <td>0.582018</td>\n",
              "    </tr>\n",
              "    <tr>\n",
              "      <th>5</th>\n",
              "      <td>Ridge</td>\n",
              "      <td>0.582020</td>\n",
              "    </tr>\n",
              "    <tr>\n",
              "      <th>3</th>\n",
              "      <td>Decision Tree Regression</td>\n",
              "      <td>0.663339</td>\n",
              "    </tr>\n",
              "    <tr>\n",
              "      <th>2</th>\n",
              "      <td>Polynomial Regression</td>\n",
              "      <td>0.704622</td>\n",
              "    </tr>\n",
              "    <tr>\n",
              "      <th>4</th>\n",
              "      <td>Random Forest Regression</td>\n",
              "      <td>0.808465</td>\n",
              "    </tr>\n",
              "  </tbody>\n",
              "</table>\n",
              "</div>\n",
              "      <button class=\"colab-df-convert\" onclick=\"convertToInteractive('df-6ef21faa-3e76-439b-b1fe-765714150195')\"\n",
              "              title=\"Convert this dataframe to an interactive table.\"\n",
              "              style=\"display:none;\">\n",
              "        \n",
              "  <svg xmlns=\"http://www.w3.org/2000/svg\" height=\"24px\"viewBox=\"0 0 24 24\"\n",
              "       width=\"24px\">\n",
              "    <path d=\"M0 0h24v24H0V0z\" fill=\"none\"/>\n",
              "    <path d=\"M18.56 5.44l.94 2.06.94-2.06 2.06-.94-2.06-.94-.94-2.06-.94 2.06-2.06.94zm-11 1L8.5 8.5l.94-2.06 2.06-.94-2.06-.94L8.5 2.5l-.94 2.06-2.06.94zm10 10l.94 2.06.94-2.06 2.06-.94-2.06-.94-.94-2.06-.94 2.06-2.06.94z\"/><path d=\"M17.41 7.96l-1.37-1.37c-.4-.4-.92-.59-1.43-.59-.52 0-1.04.2-1.43.59L10.3 9.45l-7.72 7.72c-.78.78-.78 2.05 0 2.83L4 21.41c.39.39.9.59 1.41.59.51 0 1.02-.2 1.41-.59l7.78-7.78 2.81-2.81c.8-.78.8-2.07 0-2.86zM5.41 20L4 18.59l7.72-7.72 1.47 1.35L5.41 20z\"/>\n",
              "  </svg>\n",
              "      </button>\n",
              "      \n",
              "  <style>\n",
              "    .colab-df-container {\n",
              "      display:flex;\n",
              "      flex-wrap:wrap;\n",
              "      gap: 12px;\n",
              "    }\n",
              "\n",
              "    .colab-df-convert {\n",
              "      background-color: #E8F0FE;\n",
              "      border: none;\n",
              "      border-radius: 50%;\n",
              "      cursor: pointer;\n",
              "      display: none;\n",
              "      fill: #1967D2;\n",
              "      height: 32px;\n",
              "      padding: 0 0 0 0;\n",
              "      width: 32px;\n",
              "    }\n",
              "\n",
              "    .colab-df-convert:hover {\n",
              "      background-color: #E2EBFA;\n",
              "      box-shadow: 0px 1px 2px rgba(60, 64, 67, 0.3), 0px 1px 3px 1px rgba(60, 64, 67, 0.15);\n",
              "      fill: #174EA6;\n",
              "    }\n",
              "\n",
              "    [theme=dark] .colab-df-convert {\n",
              "      background-color: #3B4455;\n",
              "      fill: #D2E3FC;\n",
              "    }\n",
              "\n",
              "    [theme=dark] .colab-df-convert:hover {\n",
              "      background-color: #434B5C;\n",
              "      box-shadow: 0px 1px 3px 1px rgba(0, 0, 0, 0.15);\n",
              "      filter: drop-shadow(0px 1px 2px rgba(0, 0, 0, 0.3));\n",
              "      fill: #FFFFFF;\n",
              "    }\n",
              "  </style>\n",
              "\n",
              "      <script>\n",
              "        const buttonEl =\n",
              "          document.querySelector('#df-6ef21faa-3e76-439b-b1fe-765714150195 button.colab-df-convert');\n",
              "        buttonEl.style.display =\n",
              "          google.colab.kernel.accessAllowed ? 'block' : 'none';\n",
              "\n",
              "        async function convertToInteractive(key) {\n",
              "          const element = document.querySelector('#df-6ef21faa-3e76-439b-b1fe-765714150195');\n",
              "          const dataTable =\n",
              "            await google.colab.kernel.invokeFunction('convertToInteractive',\n",
              "                                                     [key], {});\n",
              "          if (!dataTable) return;\n",
              "\n",
              "          const docLinkHtml = 'Like what you see? Visit the ' +\n",
              "            '<a target=\"_blank\" href=https://colab.research.google.com/notebooks/data_table.ipynb>data table notebook</a>'\n",
              "            + ' to learn more about interactive tables.';\n",
              "          element.innerHTML = '';\n",
              "          dataTable['output_type'] = 'display_data';\n",
              "          await google.colab.output.renderOutput(dataTable, element);\n",
              "          const docLink = document.createElement('div');\n",
              "          docLink.innerHTML = docLinkHtml;\n",
              "          element.appendChild(docLink);\n",
              "        }\n",
              "      </script>\n",
              "    </div>\n",
              "  </div>\n",
              "  "
            ]
          },
          "metadata": {},
          "execution_count": 40
        }
      ]
    },
    {
      "cell_type": "markdown",
      "source": [
        "# Predicting the test dataset\n",
        "Random Forest Regression Model has an high R2 score so that predicting the test dataset's Habitability_score using Random Forest Regression Mode"
      ],
      "metadata": {
        "id": "tFWqT74e_Zfl"
      }
    },
    {
      "cell_type": "code",
      "source": [
        "RandomForest_test_pred = RandomForest_regressor.predict(test_data)"
      ],
      "metadata": {
        "id": "wMF8U0Wq_fyP"
      },
      "execution_count": 34,
      "outputs": []
    },
    {
      "cell_type": "code",
      "source": [
        "print(RandomForest_test_pred.reshape(len(RandomForest_test_pred),1))"
      ],
      "metadata": {
        "colab": {
          "base_uri": "https://localhost:8080/"
        },
        "id": "00HUafqj_jsU",
        "outputId": "5532c852-03a6-4ccb-a15f-452f814ef63f"
      },
      "execution_count": 35,
      "outputs": [
        {
          "output_type": "stream",
          "name": "stdout",
          "text": [
            "[[29.78]\n",
            " [80.27]\n",
            " [67.89]\n",
            " ...\n",
            " [75.19]\n",
            " [76.92]\n",
            " [80.46]]\n"
          ]
        }
      ]
    },
    {
      "cell_type": "code",
      "source": [
        "predicted_table = pd.DataFrame(columns=[\"Property_ID\", \"Habitability_score\"])\n",
        "for i in range(len(RandomForest_test_pred)):\n",
        "    table = {\"Property_ID\" : test_dataset[\"Property_ID\"][i],\"Habitability_score\" : RandomForest_test_pred[i]}\n",
        "    predicted_table = predicted_table.append(table, ignore_index=True)\n",
        "# predicted_table.to_csv('Habitability_score_submission.csv')"
      ],
      "metadata": {
        "id": "v7hw_tTd_mO5"
      },
      "execution_count": 36,
      "outputs": []
    },
    {
      "cell_type": "code",
      "source": [
        "predicted_table"
      ],
      "metadata": {
        "colab": {
          "base_uri": "https://localhost:8080/",
          "height": 424
        },
        "id": "GmwTF3CP_oyu",
        "outputId": "1a0f2a67-1f07-4cb7-df04-c811daa7e284"
      },
      "execution_count": 37,
      "outputs": [
        {
          "output_type": "execute_result",
          "data": {
            "text/plain": [
              "      Property_ID  Habitability_score\n",
              "0          0x6e93              29.783\n",
              "1          0x8787              80.266\n",
              "2          0x6c17              67.887\n",
              "3          0x9dbd              70.361\n",
              "4          0xbfde              71.531\n",
              "...           ...                 ...\n",
              "10495      0x423d              64.413\n",
              "10496      0x78c5              84.619\n",
              "10497       0xbf3              75.190\n",
              "10498      0x305b              76.917\n",
              "10499      0x5cff              80.464\n",
              "\n",
              "[10500 rows x 2 columns]"
            ],
            "text/html": [
              "\n",
              "  <div id=\"df-2e078c61-b553-4307-b3f1-1b2a09790b4d\">\n",
              "    <div class=\"colab-df-container\">\n",
              "      <div>\n",
              "<style scoped>\n",
              "    .dataframe tbody tr th:only-of-type {\n",
              "        vertical-align: middle;\n",
              "    }\n",
              "\n",
              "    .dataframe tbody tr th {\n",
              "        vertical-align: top;\n",
              "    }\n",
              "\n",
              "    .dataframe thead th {\n",
              "        text-align: right;\n",
              "    }\n",
              "</style>\n",
              "<table border=\"1\" class=\"dataframe\">\n",
              "  <thead>\n",
              "    <tr style=\"text-align: right;\">\n",
              "      <th></th>\n",
              "      <th>Property_ID</th>\n",
              "      <th>Habitability_score</th>\n",
              "    </tr>\n",
              "  </thead>\n",
              "  <tbody>\n",
              "    <tr>\n",
              "      <th>0</th>\n",
              "      <td>0x6e93</td>\n",
              "      <td>29.783</td>\n",
              "    </tr>\n",
              "    <tr>\n",
              "      <th>1</th>\n",
              "      <td>0x8787</td>\n",
              "      <td>80.266</td>\n",
              "    </tr>\n",
              "    <tr>\n",
              "      <th>2</th>\n",
              "      <td>0x6c17</td>\n",
              "      <td>67.887</td>\n",
              "    </tr>\n",
              "    <tr>\n",
              "      <th>3</th>\n",
              "      <td>0x9dbd</td>\n",
              "      <td>70.361</td>\n",
              "    </tr>\n",
              "    <tr>\n",
              "      <th>4</th>\n",
              "      <td>0xbfde</td>\n",
              "      <td>71.531</td>\n",
              "    </tr>\n",
              "    <tr>\n",
              "      <th>...</th>\n",
              "      <td>...</td>\n",
              "      <td>...</td>\n",
              "    </tr>\n",
              "    <tr>\n",
              "      <th>10495</th>\n",
              "      <td>0x423d</td>\n",
              "      <td>64.413</td>\n",
              "    </tr>\n",
              "    <tr>\n",
              "      <th>10496</th>\n",
              "      <td>0x78c5</td>\n",
              "      <td>84.619</td>\n",
              "    </tr>\n",
              "    <tr>\n",
              "      <th>10497</th>\n",
              "      <td>0xbf3</td>\n",
              "      <td>75.190</td>\n",
              "    </tr>\n",
              "    <tr>\n",
              "      <th>10498</th>\n",
              "      <td>0x305b</td>\n",
              "      <td>76.917</td>\n",
              "    </tr>\n",
              "    <tr>\n",
              "      <th>10499</th>\n",
              "      <td>0x5cff</td>\n",
              "      <td>80.464</td>\n",
              "    </tr>\n",
              "  </tbody>\n",
              "</table>\n",
              "<p>10500 rows × 2 columns</p>\n",
              "</div>\n",
              "      <button class=\"colab-df-convert\" onclick=\"convertToInteractive('df-2e078c61-b553-4307-b3f1-1b2a09790b4d')\"\n",
              "              title=\"Convert this dataframe to an interactive table.\"\n",
              "              style=\"display:none;\">\n",
              "        \n",
              "  <svg xmlns=\"http://www.w3.org/2000/svg\" height=\"24px\"viewBox=\"0 0 24 24\"\n",
              "       width=\"24px\">\n",
              "    <path d=\"M0 0h24v24H0V0z\" fill=\"none\"/>\n",
              "    <path d=\"M18.56 5.44l.94 2.06.94-2.06 2.06-.94-2.06-.94-.94-2.06-.94 2.06-2.06.94zm-11 1L8.5 8.5l.94-2.06 2.06-.94-2.06-.94L8.5 2.5l-.94 2.06-2.06.94zm10 10l.94 2.06.94-2.06 2.06-.94-2.06-.94-.94-2.06-.94 2.06-2.06.94z\"/><path d=\"M17.41 7.96l-1.37-1.37c-.4-.4-.92-.59-1.43-.59-.52 0-1.04.2-1.43.59L10.3 9.45l-7.72 7.72c-.78.78-.78 2.05 0 2.83L4 21.41c.39.39.9.59 1.41.59.51 0 1.02-.2 1.41-.59l7.78-7.78 2.81-2.81c.8-.78.8-2.07 0-2.86zM5.41 20L4 18.59l7.72-7.72 1.47 1.35L5.41 20z\"/>\n",
              "  </svg>\n",
              "      </button>\n",
              "      \n",
              "  <style>\n",
              "    .colab-df-container {\n",
              "      display:flex;\n",
              "      flex-wrap:wrap;\n",
              "      gap: 12px;\n",
              "    }\n",
              "\n",
              "    .colab-df-convert {\n",
              "      background-color: #E8F0FE;\n",
              "      border: none;\n",
              "      border-radius: 50%;\n",
              "      cursor: pointer;\n",
              "      display: none;\n",
              "      fill: #1967D2;\n",
              "      height: 32px;\n",
              "      padding: 0 0 0 0;\n",
              "      width: 32px;\n",
              "    }\n",
              "\n",
              "    .colab-df-convert:hover {\n",
              "      background-color: #E2EBFA;\n",
              "      box-shadow: 0px 1px 2px rgba(60, 64, 67, 0.3), 0px 1px 3px 1px rgba(60, 64, 67, 0.15);\n",
              "      fill: #174EA6;\n",
              "    }\n",
              "\n",
              "    [theme=dark] .colab-df-convert {\n",
              "      background-color: #3B4455;\n",
              "      fill: #D2E3FC;\n",
              "    }\n",
              "\n",
              "    [theme=dark] .colab-df-convert:hover {\n",
              "      background-color: #434B5C;\n",
              "      box-shadow: 0px 1px 3px 1px rgba(0, 0, 0, 0.15);\n",
              "      filter: drop-shadow(0px 1px 2px rgba(0, 0, 0, 0.3));\n",
              "      fill: #FFFFFF;\n",
              "    }\n",
              "  </style>\n",
              "\n",
              "      <script>\n",
              "        const buttonEl =\n",
              "          document.querySelector('#df-2e078c61-b553-4307-b3f1-1b2a09790b4d button.colab-df-convert');\n",
              "        buttonEl.style.display =\n",
              "          google.colab.kernel.accessAllowed ? 'block' : 'none';\n",
              "\n",
              "        async function convertToInteractive(key) {\n",
              "          const element = document.querySelector('#df-2e078c61-b553-4307-b3f1-1b2a09790b4d');\n",
              "          const dataTable =\n",
              "            await google.colab.kernel.invokeFunction('convertToInteractive',\n",
              "                                                     [key], {});\n",
              "          if (!dataTable) return;\n",
              "\n",
              "          const docLinkHtml = 'Like what you see? Visit the ' +\n",
              "            '<a target=\"_blank\" href=https://colab.research.google.com/notebooks/data_table.ipynb>data table notebook</a>'\n",
              "            + ' to learn more about interactive tables.';\n",
              "          element.innerHTML = '';\n",
              "          dataTable['output_type'] = 'display_data';\n",
              "          await google.colab.output.renderOutput(dataTable, element);\n",
              "          const docLink = document.createElement('div');\n",
              "          docLink.innerHTML = docLinkHtml;\n",
              "          element.appendChild(docLink);\n",
              "        }\n",
              "      </script>\n",
              "    </div>\n",
              "  </div>\n",
              "  "
            ]
          },
          "metadata": {},
          "execution_count": 37
        }
      ]
    }
  ]
}